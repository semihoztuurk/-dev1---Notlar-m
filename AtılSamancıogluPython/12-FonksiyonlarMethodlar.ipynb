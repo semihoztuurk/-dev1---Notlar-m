{
 "cells": [
  {
   "cell_type": "code",
   "execution_count": 7,
   "id": "4bba086e",
   "metadata": {},
   "outputs": [],
   "source": [
    "benimAdim = \"Semih Ata Öztürk\""
   ]
  },
  {
   "cell_type": "code",
   "execution_count": 8,
   "id": "e3879f63",
   "metadata": {},
   "outputs": [
    {
     "data": {
      "text/plain": [
       "'SEMIH ATA ÖZTÜRK'"
      ]
     },
     "execution_count": 8,
     "metadata": {},
     "output_type": "execute_result"
    }
   ],
   "source": [
    "benimAdim.upper()"
   ]
  },
  {
   "cell_type": "code",
   "execution_count": 9,
   "id": "dfb9fec4",
   "metadata": {},
   "outputs": [
    {
     "data": {
      "text/plain": [
       "'Semih Ata Öztürk'"
      ]
     },
     "execution_count": 9,
     "metadata": {},
     "output_type": "execute_result"
    }
   ],
   "source": [
    "benimAdim"
   ]
  },
  {
   "cell_type": "code",
   "execution_count": 10,
   "id": "8efdaf5e",
   "metadata": {},
   "outputs": [],
   "source": [
    "benimAdimBuyukHarfli = benimAdim.upper()"
   ]
  },
  {
   "cell_type": "code",
   "execution_count": 11,
   "id": "f8ebb369",
   "metadata": {},
   "outputs": [
    {
     "data": {
      "text/plain": [
       "'SEMIH ATA ÖZTÜRK'"
      ]
     },
     "execution_count": 11,
     "metadata": {},
     "output_type": "execute_result"
    }
   ],
   "source": [
    "benimAdimBuyukHarfli"
   ]
  },
  {
   "cell_type": "code",
   "execution_count": 12,
   "id": "921579c3",
   "metadata": {},
   "outputs": [
    {
     "data": {
      "text/plain": [
       "'Semih Ata Öztürk'"
      ]
     },
     "execution_count": 12,
     "metadata": {},
     "output_type": "execute_result"
    }
   ],
   "source": [
    "benimAdim"
   ]
  },
  {
   "cell_type": "code",
   "execution_count": 15,
   "id": "5e27b4f1",
   "metadata": {},
   "outputs": [
    {
     "name": "stdout",
     "output_type": "stream",
     "text": [
      "Help on built-in function upper:\n",
      "\n",
      "upper() method of builtins.str instance\n",
      "    Return a copy of the string converted to uppercase.\n",
      "\n"
     ]
    }
   ],
   "source": [
    "help(benimAdim.upper) #shift tab demek help çağırmak"
   ]
  },
  {
   "cell_type": "code",
   "execution_count": 16,
   "id": "45fe26a2",
   "metadata": {},
   "outputs": [],
   "source": [
    "def ilkFonksiyon():\n",
    "    print(\"İlk fonksiyonum\")"
   ]
  },
  {
   "cell_type": "code",
   "execution_count": 18,
   "id": "89a5c3ed",
   "metadata": {},
   "outputs": [
    {
     "name": "stdout",
     "output_type": "stream",
     "text": [
      "İlk fonksiyonum\n"
     ]
    }
   ],
   "source": [
    "ilkFonksiyon()"
   ]
  },
  {
   "cell_type": "markdown",
   "id": "86c5e7b7",
   "metadata": {},
   "source": [
    "## input & return"
   ]
  },
  {
   "cell_type": "code",
   "execution_count": 22,
   "id": "ef878081",
   "metadata": {},
   "outputs": [],
   "source": [
    "def merhabaDunya(yazdirilacakIsim):\n",
    "    print(\"merhaba\")\n",
    "    print(yazdirilacakIsim)"
   ]
  },
  {
   "cell_type": "code",
   "execution_count": 25,
   "id": "2bb46cc0",
   "metadata": {},
   "outputs": [
    {
     "name": "stdout",
     "output_type": "stream",
     "text": [
      "merhaba\n",
      "eşşek\n"
     ]
    }
   ],
   "source": [
    "merhabaDunya(\"eşşek\")"
   ]
  },
  {
   "cell_type": "code",
   "execution_count": 26,
   "id": "096d49e6",
   "metadata": {},
   "outputs": [
    {
     "name": "stdout",
     "output_type": "stream",
     "text": [
      "merhaba\n",
      "Python\n"
     ]
    }
   ],
   "source": [
    "merhabaDunya(\"Python\")"
   ]
  },
  {
   "cell_type": "code",
   "execution_count": 27,
   "id": "795bb117",
   "metadata": {},
   "outputs": [],
   "source": [
    "def merhaba(isim = \"atıl\"):\n",
    "    print(\"merhaba\")\n",
    "    print(isim)"
   ]
  },
  {
   "cell_type": "code",
   "execution_count": 37,
   "id": "9a715c10",
   "metadata": {},
   "outputs": [
    {
     "name": "stdout",
     "output_type": "stream",
     "text": [
      "merhaba\n",
      "atıl\n"
     ]
    }
   ],
   "source": [
    "merhaba()"
   ]
  },
  {
   "cell_type": "code",
   "execution_count": 31,
   "id": "a4b00ab9",
   "metadata": {},
   "outputs": [
    {
     "name": "stdout",
     "output_type": "stream",
     "text": [
      "merhaba\n",
      "Python\n"
     ]
    }
   ],
   "source": [
    "merhaba(\"Python\")"
   ]
  },
  {
   "cell_type": "code",
   "execution_count": 32,
   "id": "61eb8b22",
   "metadata": {},
   "outputs": [],
   "source": [
    "def toplama(numara1, numara2):\n",
    "    sonuc = numara1 + numara2\n",
    "    print(sonuc)"
   ]
  },
  {
   "cell_type": "code",
   "execution_count": 34,
   "id": "23f441d5",
   "metadata": {},
   "outputs": [
    {
     "name": "stdout",
     "output_type": "stream",
     "text": [
      "3\n"
     ]
    }
   ],
   "source": [
    "toplama(1,2)"
   ]
  },
  {
   "cell_type": "code",
   "execution_count": 38,
   "id": "30f548d6",
   "metadata": {},
   "outputs": [
    {
     "name": "stdout",
     "output_type": "stream",
     "text": [
      "50\n"
     ]
    }
   ],
   "source": [
    "toplama(-150,200)"
   ]
  },
  {
   "cell_type": "code",
   "execution_count": 39,
   "id": "2ecfeee7",
   "metadata": {},
   "outputs": [],
   "source": [
    "def superToplama(num1,num2,num3):\n",
    "    print(num1 + num2 + num3)\n"
   ]
  },
  {
   "cell_type": "code",
   "execution_count": 40,
   "id": "4deba1c7",
   "metadata": {},
   "outputs": [
    {
     "name": "stdout",
     "output_type": "stream",
     "text": [
      "60\n"
     ]
    }
   ],
   "source": [
    "superToplama(10,20,30)"
   ]
  },
  {
   "cell_type": "code",
   "execution_count": 41,
   "id": "b938d8aa",
   "metadata": {},
   "outputs": [
    {
     "name": "stdout",
     "output_type": "stream",
     "text": [
      "30\n"
     ]
    }
   ],
   "source": [
    "yeniDegisken = toplama(10,20)"
   ]
  },
  {
   "cell_type": "code",
   "execution_count": 46,
   "id": "5b0cbdeb",
   "metadata": {},
   "outputs": [
    {
     "data": {
      "text/plain": [
       "NoneType"
      ]
     },
     "execution_count": 46,
     "metadata": {},
     "output_type": "execute_result"
    }
   ],
   "source": [
    "type(yeniDegisken)"
   ]
  },
  {
   "cell_type": "code",
   "execution_count": 47,
   "id": "6ab1ad53",
   "metadata": {},
   "outputs": [],
   "source": [
    "def dondurmeliToplama(num1, num2):\n",
    "    return num1 + num2"
   ]
  },
  {
   "cell_type": "code",
   "execution_count": 48,
   "id": "5be2d4ed",
   "metadata": {},
   "outputs": [],
   "source": [
    "yeniSonuc = dondurmeliToplama(10,20)"
   ]
  },
  {
   "cell_type": "code",
   "execution_count": 49,
   "id": "5b2ff043",
   "metadata": {},
   "outputs": [
    {
     "data": {
      "text/plain": [
       "int"
      ]
     },
     "execution_count": 49,
     "metadata": {},
     "output_type": "execute_result"
    }
   ],
   "source": [
    "type(yeniSonuc)"
   ]
  },
  {
   "cell_type": "code",
   "execution_count": 50,
   "id": "61dc78e1",
   "metadata": {},
   "outputs": [],
   "source": [
    "def kontrolFonksiyon(s):\n",
    "    if s == \"semih\":\n",
    "        print(\"verdiğiniz string semih\")\n",
    "    else:\n",
    "        print(\"bu kim aq\")"
   ]
  },
  {
   "cell_type": "code",
   "execution_count": 55,
   "id": "16a6a647",
   "metadata": {},
   "outputs": [
    {
     "name": "stdout",
     "output_type": "stream",
     "text": [
      "bu kim aq\n"
     ]
    }
   ],
   "source": [
    "kontrolFonksiyon(\"semoş\")"
   ]
  },
  {
   "cell_type": "code",
   "execution_count": 57,
   "id": "712b6c26",
   "metadata": {},
   "outputs": [
    {
     "name": "stdout",
     "output_type": "stream",
     "text": [
      "verdiğiniz string semih\n"
     ]
    }
   ],
   "source": [
    "kontrolFonksiyon(\"semih\")"
   ]
  },
  {
   "cell_type": "markdown",
   "id": "514d1b37",
   "metadata": {},
   "source": [
    "## args & kwargs"
   ]
  },
  {
   "cell_type": "code",
   "execution_count": 58,
   "id": "bcbb9fb7",
   "metadata": {},
   "outputs": [],
   "source": [
    "def yeniToplama(*args):\n",
    "    return sum(args)"
   ]
  },
  {
   "cell_type": "code",
   "execution_count": 59,
   "id": "2dccc6da",
   "metadata": {},
   "outputs": [
    {
     "data": {
      "text/plain": [
       "210"
      ]
     },
     "execution_count": 59,
     "metadata": {},
     "output_type": "execute_result"
    }
   ],
   "source": [
    "yeniToplama(10,20,30,40,50,60)"
   ]
  },
  {
   "cell_type": "code",
   "execution_count": 60,
   "id": "bb8383c6",
   "metadata": {},
   "outputs": [
    {
     "data": {
      "text/plain": [
       "30"
      ]
     },
     "execution_count": 60,
     "metadata": {},
     "output_type": "execute_result"
    }
   ],
   "source": [
    "yeniToplama(10,20)t"
   ]
  },
  {
   "cell_type": "code",
   "execution_count": 70,
   "id": "2f0fb0f5",
   "metadata": {},
   "outputs": [],
   "source": [
    "def benimFonksiyonum(*args):\n",
    "    return args"
   ]
  },
  {
   "cell_type": "code",
   "execution_count": 71,
   "id": "80077831",
   "metadata": {},
   "outputs": [
    {
     "data": {
      "text/plain": [
       "tuple"
      ]
     },
     "execution_count": 71,
     "metadata": {},
     "output_type": "execute_result"
    }
   ],
   "source": [
    "type(benimFonksiyonum(20,30,40))"
   ]
  },
  {
   "cell_type": "code",
   "execution_count": 79,
   "id": "4968e922",
   "metadata": {},
   "outputs": [],
   "source": [
    "def ornekFonksiyon(**kwargs):\n",
    "    print(kwargs)"
   ]
  },
  {
   "cell_type": "code",
   "execution_count": 80,
   "id": "bf8b05df",
   "metadata": {},
   "outputs": [
    {
     "name": "stdout",
     "output_type": "stream",
     "text": [
      "{'muz': 100, 'elma': 200, 'ananas': 300}\n"
     ]
    },
    {
     "data": {
      "text/plain": [
       "NoneType"
      ]
     },
     "execution_count": 80,
     "metadata": {},
     "output_type": "execute_result"
    }
   ],
   "source": [
    "type(ornekFonksiyon(muz=100, elma=200, ananas= 300))"
   ]
  },
  {
   "cell_type": "code",
   "execution_count": 81,
   "id": "1e906910",
   "metadata": {},
   "outputs": [],
   "source": [
    "## eğer return kullanırsam"
   ]
  },
  {
   "cell_type": "code",
   "execution_count": 82,
   "id": "22d68269",
   "metadata": {},
   "outputs": [],
   "source": [
    "def ornekFonksiyon(**kwargs):\n",
    "    return(kwargs)"
   ]
  },
  {
   "cell_type": "code",
   "execution_count": 83,
   "id": "6af9d733",
   "metadata": {},
   "outputs": [
    {
     "data": {
      "text/plain": [
       "dict"
      ]
     },
     "execution_count": 83,
     "metadata": {},
     "output_type": "execute_result"
    }
   ],
   "source": [
    "type(ornekFonksiyon(muz=100, elma=200, ananas=300))"
   ]
  },
  {
   "cell_type": "code",
   "execution_count": 86,
   "id": "b4d7eb52",
   "metadata": {},
   "outputs": [],
   "source": [
    "def keyWordKontrolu(**kwargs):\n",
    "    if \"semih\" in kwargs:\n",
    "        print(\"semih var\")\n",
    "    else:\n",
    "        print(\"semih yok\")"
   ]
  },
  {
   "cell_type": "code",
   "execution_count": 87,
   "id": "4fec0284",
   "metadata": {},
   "outputs": [
    {
     "name": "stdout",
     "output_type": "stream",
     "text": [
      "semih var\n"
     ]
    }
   ],
   "source": [
    "keyWordKontrolu(semih=30 , zeynep=50, mehmet=40)"
   ]
  },
  {
   "cell_type": "code",
   "execution_count": null,
   "id": "c8290963",
   "metadata": {},
   "outputs": [],
   "source": []
  }
 ],
 "metadata": {
  "kernelspec": {
   "display_name": "Python 3 (ipykernel)",
   "language": "python",
   "name": "python3"
  },
  "language_info": {
   "codemirror_mode": {
    "name": "ipython",
    "version": 3
   },
   "file_extension": ".py",
   "mimetype": "text/x-python",
   "name": "python",
   "nbconvert_exporter": "python",
   "pygments_lexer": "ipython3",
   "version": "3.11.5"
  }
 },
 "nbformat": 4,
 "nbformat_minor": 5
}
