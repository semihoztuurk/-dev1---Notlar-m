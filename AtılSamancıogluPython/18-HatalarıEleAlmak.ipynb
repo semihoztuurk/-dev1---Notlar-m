{
 "cells": [
  {
   "cell_type": "code",
   "execution_count": 2,
   "id": "9f22daa8",
   "metadata": {},
   "outputs": [],
   "source": [
    "def toplama(numara1, numara2):\n",
    "    return numara1 + numara2"
   ]
  },
  {
   "cell_type": "code",
   "execution_count": 3,
   "id": "3944cf84",
   "metadata": {},
   "outputs": [
    {
     "name": "stdout",
     "output_type": "stream",
     "text": [
      "İlk numarayı giriniz: 10\n",
      "İkinci numarayı giriniz: 20\n"
     ]
    },
    {
     "data": {
      "text/plain": [
       "30"
      ]
     },
     "execution_count": 3,
     "metadata": {},
     "output_type": "execute_result"
    }
   ],
   "source": [
    "x = int(input(\"İlk numarayı giriniz: \"))\n",
    "y = int(input(\"İkinci numarayı giriniz: \"))\n",
    "toplama(x,y)"
   ]
  },
  {
   "cell_type": "markdown",
   "id": "a6bb1113",
   "metadata": {},
   "source": [
    "## try & except & else & finally"
   ]
  },
  {
   "cell_type": "code",
   "execution_count": 6,
   "id": "902d7e4c",
   "metadata": {},
   "outputs": [
    {
     "name": "stdout",
     "output_type": "stream",
     "text": [
      "Numaranızı giriniz: semih\n",
      "Lütfen sayı giriniz. \n",
      "finally çağırıldı! \n",
      "Numaranızı giriniz: 37\n",
      "Teşekkürler! \n",
      "finally çağırıldı! \n"
     ]
    }
   ],
   "source": [
    "while True:\n",
    "    try:\n",
    "        benimInt= int(input(\"Numaranızı giriniz: \"))\n",
    "    except:\n",
    "        print(\"Lütfen sayı giriniz. \")\n",
    "        continue\n",
    "    else:\n",
    "        print(\"Teşekkürler! \")\n",
    "        break\n",
    "    finally:\n",
    "        print(\"finally çağırıldı! \")"
   ]
  },
  {
   "cell_type": "code",
   "execution_count": null,
   "id": "23026072",
   "metadata": {},
   "outputs": [],
   "source": []
  }
 ],
 "metadata": {
  "kernelspec": {
   "display_name": "Python 3 (ipykernel)",
   "language": "python",
   "name": "python3"
  },
  "language_info": {
   "codemirror_mode": {
    "name": "ipython",
    "version": 3
   },
   "file_extension": ".py",
   "mimetype": "text/x-python",
   "name": "python",
   "nbconvert_exporter": "python",
   "pygments_lexer": "ipython3",
   "version": "3.11.5"
  }
 },
 "nbformat": 4,
 "nbformat_minor": 5
}
