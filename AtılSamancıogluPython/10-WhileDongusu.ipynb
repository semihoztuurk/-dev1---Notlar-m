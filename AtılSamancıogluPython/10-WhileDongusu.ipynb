{
 "cells": [
  {
   "cell_type": "code",
   "execution_count": 25,
   "id": "4f1442a8",
   "metadata": {},
   "outputs": [],
   "source": [
    "x = 0"
   ]
  },
  {
   "cell_type": "code",
   "execution_count": 26,
   "id": "2d875c24",
   "metadata": {},
   "outputs": [
    {
     "name": "stdout",
     "output_type": "stream",
     "text": [
      "0\n",
      "1\n",
      "2\n",
      "3\n",
      "4\n",
      "5\n",
      "6\n",
      "7\n",
      "8\n",
      "9\n"
     ]
    }
   ],
   "source": [
    "while x < 10:\n",
    "    print(x)\n",
    "    x = x+1"
   ]
  },
  {
   "cell_type": "code",
   "execution_count": 27,
   "id": "8c00fae3",
   "metadata": {},
   "outputs": [],
   "source": [
    "benimListem = [1,2,3,4,5]"
   ]
  },
  {
   "cell_type": "code",
   "execution_count": 28,
   "id": "e80df8a8",
   "metadata": {},
   "outputs": [
    {
     "data": {
      "text/plain": [
       "5"
      ]
     },
     "execution_count": 28,
     "metadata": {},
     "output_type": "execute_result"
    }
   ],
   "source": [
    "benimListem.pop()"
   ]
  },
  {
   "cell_type": "code",
   "execution_count": 29,
   "id": "f8770b30",
   "metadata": {},
   "outputs": [
    {
     "data": {
      "text/plain": [
       "[1, 2, 3, 4]"
      ]
     },
     "execution_count": 29,
     "metadata": {},
     "output_type": "execute_result"
    }
   ],
   "source": [
    "benimListem"
   ]
  },
  {
   "cell_type": "code",
   "execution_count": 30,
   "id": "5ddbbb6c",
   "metadata": {},
   "outputs": [],
   "source": [
    "benimListem.append(5)"
   ]
  },
  {
   "cell_type": "code",
   "execution_count": 31,
   "id": "f2bc1718",
   "metadata": {},
   "outputs": [
    {
     "data": {
      "text/plain": [
       "[1, 2, 3, 4, 5]"
      ]
     },
     "execution_count": 31,
     "metadata": {},
     "output_type": "execute_result"
    }
   ],
   "source": [
    "benimListem"
   ]
  },
  {
   "cell_type": "code",
   "execution_count": 32,
   "id": "2e9f2bde",
   "metadata": {},
   "outputs": [
    {
     "name": "stdout",
     "output_type": "stream",
     "text": [
      "3 hala listenin içerisinde\n",
      "3 hala listenin içerisinde\n",
      "3 hala listenin içerisinde\n"
     ]
    }
   ],
   "source": [
    "while 3 in benimListem:\n",
    "    print(\"3 hala listenin içerisinde\")\n",
    "    benimListem.pop()"
   ]
  },
  {
   "cell_type": "code",
   "execution_count": 39,
   "id": "a86d3fc5",
   "metadata": {},
   "outputs": [],
   "source": [
    "numara = 0"
   ]
  },
  {
   "cell_type": "code",
   "execution_count": 41,
   "id": "d7a60db1",
   "metadata": {},
   "outputs": [
    {
     "name": "stdout",
     "output_type": "stream",
     "text": [
      "0\n",
      "1\n",
      "2\n",
      "3\n"
     ]
    }
   ],
   "source": [
    "while numara < 5:\n",
    "        if numara == 4:\n",
    "            break\n",
    "        print(numara)\n",
    "        numara=numara+1"
   ]
  },
  {
   "cell_type": "code",
   "execution_count": 55,
   "id": "c9699783",
   "metadata": {},
   "outputs": [
    {
     "name": "stdout",
     "output_type": "stream",
     "text": [
      "YeniDegisken'in guncel degeri: 0\n",
      "YeniDegisken'in guncel degeri: 1\n",
      "YeniDegisken'in guncel degeri: 2\n",
      "YeniDegisken'in guncel degeri: 3\n",
      "YeniDegisken'in guncel degeri: 4\n",
      "YeniDegisken'in guncel degeri: 5\n",
      "YeniDegisken'in guncel degeri: 6\n",
      "YeniDegisken'in guncel degeri: 7\n",
      "YeniDegisken'in guncel degeri: 8\n",
      "YeniDegisken'in guncel degeri: 9\n",
      "YeniDegisken'in guncel degeri: 10\n",
      "YeniDegisken'in guncel degeri: 11\n",
      "YeniDegisken'in guncel degeri: 12\n",
      "YeniDegisken'in guncel degeri: 13\n",
      "YeniDegisken'in guncel degeri: 14\n"
     ]
    }
   ],
   "source": [
    "yeniDegisken= 0\n",
    "while yeniDegisken <15:\n",
    "    #print(\"yeniDegisken'in güncel değeri: yeniDegisken\" + str(yeniDegisken))\n",
    "    print(f\"YeniDegisken'in guncel degeri: {yeniDegisken}\")\n",
    "    yeniDegisken = yeniDegisken + 1"
   ]
  },
  {
   "cell_type": "code",
   "execution_count": null,
   "id": "57902d4f",
   "metadata": {},
   "outputs": [],
   "source": []
  }
 ],
 "metadata": {
  "kernelspec": {
   "display_name": "Python 3 (ipykernel)",
   "language": "python",
   "name": "python3"
  },
  "language_info": {
   "codemirror_mode": {
    "name": "ipython",
    "version": 3
   },
   "file_extension": ".py",
   "mimetype": "text/x-python",
   "name": "python",
   "nbconvert_exporter": "python",
   "pygments_lexer": "ipython3",
   "version": "3.11.5"
  }
 },
 "nbformat": 4,
 "nbformat_minor": 5
}
