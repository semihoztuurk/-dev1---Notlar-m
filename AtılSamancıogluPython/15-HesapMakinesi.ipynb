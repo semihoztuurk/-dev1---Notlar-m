{
 "cells": [
  {
   "cell_type": "code",
   "execution_count": null,
   "id": "5587f5e9",
   "metadata": {},
   "outputs": [
    {
     "name": "stdout",
     "output_type": "stream",
     "text": [
      "İlk sayıyı giriniz: atıl\n",
      "Lütfen sayı giriniz! \n",
      "İlk sayıyı giriniz: 60\n",
      "İkinci sayıyı giriniz: osma\n",
      "Lütfen sayı giriniz! \n",
      "Lütfen sayı giriniz! \n"
     ]
    }
   ],
   "source": [
    "def hesapla(a,b,islem):\n",
    "    \n",
    "    if islem not in \"+-*/\":\n",
    "        return \"Lütfen bu işlemlerden birini seçiniz!: + - + /\"\n",
    "    \n",
    "    if islem== \"+\":\n",
    "        return(str(a) + \" + \"+ str(b) + \" = \" + str(a+b))\n",
    "    if islem== \"-\":\n",
    "        return(str(a) + \" - \"+ str(b) + \" = \" + str(a-b))\n",
    "    if islem== \"*\":\n",
    "        return(str(a) + \" * \"+ str(b) + \" = \" + str(a*b))\n",
    "    if islem== \"/\":\n",
    "        return(str(a) + \" / \"+ str(b) + \" = \" + str(a/b))\n",
    "\n",
    "while True:\n",
    "    try:\n",
    "        a= int(input(\"İlk sayıyı giriniz: \"))\n",
    "        b= int(input(\"İkinci sayıyı giriniz: \"))\n",
    "        islem= input(\"İşleminizi seçiniz: + - * / \")\n",
    "        print(hesapla(a,b,islem))\n",
    "    except:\n",
    "        print(\"Lütfen sayı giriniz! \")"
   ]
  },
  {
   "cell_type": "code",
   "execution_count": null,
   "id": "28cb907b",
   "metadata": {},
   "outputs": [],
   "source": []
  }
 ],
 "metadata": {
  "kernelspec": {
   "display_name": "Python 3 (ipykernel)",
   "language": "python",
   "name": "python3"
  },
  "language_info": {
   "codemirror_mode": {
    "name": "ipython",
    "version": 3
   },
   "file_extension": ".py",
   "mimetype": "text/x-python",
   "name": "python",
   "nbconvert_exporter": "python",
   "pygments_lexer": "ipython3",
   "version": "3.11.5"
  }
 },
 "nbformat": 4,
 "nbformat_minor": 5
}
