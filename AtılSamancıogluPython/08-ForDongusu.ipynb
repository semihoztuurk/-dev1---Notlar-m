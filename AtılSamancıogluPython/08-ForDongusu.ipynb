{
 "cells": [
  {
   "cell_type": "code",
   "execution_count": 1,
   "id": "b4314682",
   "metadata": {},
   "outputs": [],
   "source": [
    "benimListem = [10,20,30,40,50]"
   ]
  },
  {
   "cell_type": "code",
   "execution_count": 2,
   "id": "23a1065b",
   "metadata": {},
   "outputs": [
    {
     "name": "stdout",
     "output_type": "stream",
     "text": [
      "evet içerisinde mevcut.\n"
     ]
    }
   ],
   "source": [
    "if 10 in benimListem:\n",
    "    print(\"evet içerisinde mevcut.\")"
   ]
  },
  {
   "cell_type": "code",
   "execution_count": 3,
   "id": "97304755",
   "metadata": {},
   "outputs": [
    {
     "data": {
      "text/plain": [
       "16.666666666666668"
      ]
     },
     "execution_count": 3,
     "metadata": {},
     "output_type": "execute_result"
    }
   ],
   "source": [
    "benimListem[0] * 5 / 3"
   ]
  },
  {
   "cell_type": "code",
   "execution_count": 4,
   "id": "1f3b1b60",
   "metadata": {},
   "outputs": [
    {
     "data": {
      "text/plain": [
       "33.333333333333336"
      ]
     },
     "execution_count": 4,
     "metadata": {},
     "output_type": "execute_result"
    }
   ],
   "source": [
    "benimListem[1] * 5 / 3"
   ]
  },
  {
   "cell_type": "code",
   "execution_count": 10,
   "id": "89c95ffd",
   "metadata": {},
   "outputs": [
    {
     "name": "stdout",
     "output_type": "stream",
     "text": [
      "döngü başladı\n",
      "16.666666666666668\n",
      "33.333333333333336\n",
      "50.0\n",
      "66.66666666666667\n",
      "83.33333333333333\n",
      "döngü bitti...\n"
     ]
    }
   ],
   "source": [
    "print(\"döngü başladı\")\n",
    "for numara in benimListem:\n",
    "    print(numara * 5 / 3)\n",
    "print(\"döngü bitti...\")"
   ]
  },
  {
   "cell_type": "code",
   "execution_count": 12,
   "id": "49319e91",
   "metadata": {},
   "outputs": [
    {
     "name": "stdout",
     "output_type": "stream",
     "text": [
      "16.666666666666668\n",
      "33.333333333333336\n",
      "50.0\n",
      "66.66666666666667\n",
      "83.33333333333333\n"
     ]
    }
   ],
   "source": [
    "for num in benimListem:\n",
    "    yeniNumara = num * 5 / 3\n",
    "    print(yeniNumara)"
   ]
  },
  {
   "cell_type": "code",
   "execution_count": 23,
   "id": "9d39432b",
   "metadata": {},
   "outputs": [],
   "source": [
    "yeniListe = [1,2,3,4,5,6]"
   ]
  },
  {
   "cell_type": "code",
   "execution_count": 37,
   "id": "6d2517f9",
   "metadata": {},
   "outputs": [
    {
     "name": "stdout",
     "output_type": "stream",
     "text": [
      "2\n",
      "4\n",
      "6\n",
      "ÇİFT SAYILAR.\n"
     ]
    }
   ],
   "source": [
    "for rakam in yeniListe:\n",
    "    if rakam % 2 == 0:\n",
    "        print(rakam)\n",
    "print(\"ÇİFT SAYILAR.\")"
   ]
  },
  {
   "cell_type": "code",
   "execution_count": 36,
   "id": "64cff29c",
   "metadata": {},
   "outputs": [
    {
     "name": "stdout",
     "output_type": "stream",
     "text": [
      "1\n",
      "3\n",
      "5\n",
      "TEK SAYILAR.\n"
     ]
    }
   ],
   "source": [
    "for rakam in yeniListe:\n",
    "    if rakam%2 == 1:\n",
    "        print(rakam)\n",
    "print(\"TEK SAYILAR.\")"
   ]
  },
  {
   "cell_type": "code",
   "execution_count": 39,
   "id": "42fab4d2",
   "metadata": {},
   "outputs": [],
   "source": [
    "yeniString = \"Semih Ata Öztürk\""
   ]
  },
  {
   "cell_type": "code",
   "execution_count": 42,
   "id": "e1a218f5",
   "metadata": {},
   "outputs": [
    {
     "name": "stdout",
     "output_type": "stream",
     "text": [
      "S\n",
      "e\n",
      "m\n",
      "i\n",
      "h\n",
      " \n",
      "A\n",
      "t\n",
      "a\n",
      " \n",
      "Ö\n",
      "z\n",
      "t\n",
      "ü\n",
      "r\n",
      "k\n"
     ]
    }
   ],
   "source": [
    "for harf in yeniString:\n",
    "    print(harf)\n"
   ]
  },
  {
   "cell_type": "code",
   "execution_count": 43,
   "id": "241b2619",
   "metadata": {},
   "outputs": [],
   "source": [
    "benimTuple = (1,2,3,4,5)"
   ]
  },
  {
   "cell_type": "code",
   "execution_count": 44,
   "id": "e97f6e35",
   "metadata": {},
   "outputs": [
    {
     "name": "stdout",
     "output_type": "stream",
     "text": [
      "1\n",
      "2\n",
      "3\n",
      "4\n",
      "5\n"
     ]
    }
   ],
   "source": [
    "for eleman in benimTuple:\n",
    "    print(eleman)"
   ]
  },
  {
   "cell_type": "code",
   "execution_count": 45,
   "id": "0186229f",
   "metadata": {},
   "outputs": [],
   "source": [
    "koordinatListesi= [(10.2,15.2) , (32.4,16.2) , (40.2,20.2)]"
   ]
  },
  {
   "cell_type": "code",
   "execution_count": 46,
   "id": "ed53172f",
   "metadata": {},
   "outputs": [
    {
     "data": {
      "text/plain": [
       "list"
      ]
     },
     "execution_count": 46,
     "metadata": {},
     "output_type": "execute_result"
    }
   ],
   "source": [
    "type(koordinatListesi)"
   ]
  },
  {
   "cell_type": "code",
   "execution_count": 48,
   "id": "22bdee30",
   "metadata": {},
   "outputs": [
    {
     "name": "stdout",
     "output_type": "stream",
     "text": [
      "(10.2, 15.2)\n",
      "(32.4, 16.2)\n",
      "(40.2, 20.2)\n"
     ]
    }
   ],
   "source": [
    "for eleman in koordinatListesi:\n",
    "        print(eleman)"
   ]
  },
  {
   "cell_type": "code",
   "execution_count": 50,
   "id": "9dbfa05a",
   "metadata": {},
   "outputs": [
    {
     "name": "stdout",
     "output_type": "stream",
     "text": [
      "15.2\n",
      "16.2\n",
      "20.2\n"
     ]
    }
   ],
   "source": [
    "for (x,y) in koordinatListesi:\n",
    "    print(y)"
   ]
  },
  {
   "cell_type": "code",
   "execution_count": 51,
   "id": "69e8112c",
   "metadata": {},
   "outputs": [],
   "source": [
    "benimGaripListem = [(1,2,3),(4,5,6),(7,8,9)]"
   ]
  },
  {
   "cell_type": "code",
   "execution_count": 53,
   "id": "7ba27131",
   "metadata": {},
   "outputs": [
    {
     "name": "stdout",
     "output_type": "stream",
     "text": [
      "3\n",
      "6\n",
      "9\n"
     ]
    }
   ],
   "source": [
    "for (x,y,z) in benimGaripListem:\n",
    "    print(z)"
   ]
  },
  {
   "cell_type": "code",
   "execution_count": 55,
   "id": "308c8290",
   "metadata": {},
   "outputs": [],
   "source": [
    "benimSozluk = {\"muz\": 150, \"portakal\": 250, \"elma\": 400}"
   ]
  },
  {
   "cell_type": "code",
   "execution_count": 58,
   "id": "c5330b82",
   "metadata": {},
   "outputs": [
    {
     "name": "stdout",
     "output_type": "stream",
     "text": [
      "muz\n",
      "portakal\n",
      "elma\n"
     ]
    }
   ],
   "source": [
    "for (meyve,kalori) in benimSozluk.items():\n",
    "    print(meyve)"
   ]
  },
  {
   "cell_type": "code",
   "execution_count": null,
   "id": "d0ce9f3b",
   "metadata": {},
   "outputs": [],
   "source": []
  },
  {
   "cell_type": "code",
   "execution_count": null,
   "id": "d6592799",
   "metadata": {},
   "outputs": [],
   "source": []
  }
 ],
 "metadata": {
  "kernelspec": {
   "display_name": "Python 3 (ipykernel)",
   "language": "python",
   "name": "python3"
  },
  "language_info": {
   "codemirror_mode": {
    "name": "ipython",
    "version": 3
   },
   "file_extension": ".py",
   "mimetype": "text/x-python",
   "name": "python",
   "nbconvert_exporter": "python",
   "pygments_lexer": "ipython3",
   "version": "3.11.5"
  }
 },
 "nbformat": 4,
 "nbformat_minor": 5
}
