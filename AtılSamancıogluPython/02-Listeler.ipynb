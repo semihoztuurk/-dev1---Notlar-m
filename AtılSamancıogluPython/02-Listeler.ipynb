{
 "cells": [
  {
   "cell_type": "code",
   "execution_count": 1,
   "id": "242d99e4",
   "metadata": {},
   "outputs": [],
   "source": [
    "benimString = \"Semih Ata Öztürk\""
   ]
  },
  {
   "cell_type": "code",
   "execution_count": 2,
   "id": "728be10e",
   "metadata": {},
   "outputs": [
    {
     "data": {
      "text/plain": [
       "'S'"
      ]
     },
     "execution_count": 2,
     "metadata": {},
     "output_type": "execute_result"
    }
   ],
   "source": [
    "benimString[0]"
   ]
  },
  {
   "cell_type": "code",
   "execution_count": 3,
   "id": "50a2b71f",
   "metadata": {},
   "outputs": [],
   "source": [
    "# immutability & mutable"
   ]
  },
  {
   "cell_type": "code",
   "execution_count": 5,
   "id": "cd17f569",
   "metadata": {},
   "outputs": [],
   "source": [
    "#benimString[0] = \"B\""
   ]
  },
  {
   "cell_type": "code",
   "execution_count": 5,
   "id": "f808cc04",
   "metadata": {},
   "outputs": [],
   "source": [
    "benimListem = [10,20,30,40]"
   ]
  },
  {
   "cell_type": "code",
   "execution_count": 7,
   "id": "e69709fd",
   "metadata": {},
   "outputs": [
    {
     "data": {
      "text/plain": [
       "list"
      ]
     },
     "execution_count": 7,
     "metadata": {},
     "output_type": "execute_result"
    }
   ],
   "source": [
    "type(benimListem)"
   ]
  },
  {
   "cell_type": "code",
   "execution_count": 1,
   "id": "901bbab0",
   "metadata": {},
   "outputs": [],
   "source": [
    "benimNumaram = 10\n",
    "benimDigerNumaram = 20"
   ]
  },
  {
   "cell_type": "code",
   "execution_count": 2,
   "id": "13cb5c43",
   "metadata": {},
   "outputs": [],
   "source": [
    "benimNumaraListem=[benimNumaram,benimDigerNumaram]"
   ]
  },
  {
   "cell_type": "code",
   "execution_count": 10,
   "id": "3424482f",
   "metadata": {},
   "outputs": [
    {
     "data": {
      "text/plain": [
       "10"
      ]
     },
     "execution_count": 10,
     "metadata": {},
     "output_type": "execute_result"
    }
   ],
   "source": [
    "benimListem[0]"
   ]
  },
  {
   "cell_type": "code",
   "execution_count": 3,
   "id": "efcbf9ac",
   "metadata": {},
   "outputs": [
    {
     "data": {
      "text/plain": [
       "10"
      ]
     },
     "execution_count": 3,
     "metadata": {},
     "output_type": "execute_result"
    }
   ],
   "source": [
    "benimNumaraListem[0]"
   ]
  },
  {
   "cell_type": "code",
   "execution_count": 6,
   "id": "c927fe8a",
   "metadata": {},
   "outputs": [
    {
     "data": {
      "text/plain": [
       "[10, 20, 30, 40]"
      ]
     },
     "execution_count": 6,
     "metadata": {},
     "output_type": "execute_result"
    }
   ],
   "source": [
    "benimListem"
   ]
  },
  {
   "cell_type": "code",
   "execution_count": 13,
   "id": "e80385e7",
   "metadata": {},
   "outputs": [],
   "source": [
    "benimListem[0] = 100"
   ]
  },
  {
   "cell_type": "code",
   "execution_count": 14,
   "id": "ada60d4e",
   "metadata": {},
   "outputs": [
    {
     "data": {
      "text/plain": [
       "[100, 20, 30, 40]"
      ]
     },
     "execution_count": 14,
     "metadata": {},
     "output_type": "execute_result"
    }
   ],
   "source": [
    "benimListem"
   ]
  },
  {
   "cell_type": "code",
   "execution_count": 15,
   "id": "234b407d",
   "metadata": {},
   "outputs": [],
   "source": [
    "benimListem.append(50)"
   ]
  },
  {
   "cell_type": "code",
   "execution_count": 16,
   "id": "3e8414c0",
   "metadata": {},
   "outputs": [
    {
     "data": {
      "text/plain": [
       "[100, 20, 30, 40, 50]"
      ]
     },
     "execution_count": 16,
     "metadata": {},
     "output_type": "execute_result"
    }
   ],
   "source": [
    "benimListem"
   ]
  },
  {
   "cell_type": "code",
   "execution_count": 25,
   "id": "d2655402",
   "metadata": {},
   "outputs": [],
   "source": [
    "benimListem.remove(30)"
   ]
  },
  {
   "cell_type": "code",
   "execution_count": 26,
   "id": "5ceec617",
   "metadata": {},
   "outputs": [
    {
     "data": {
      "text/plain": [
       "[100, 40, 50]"
      ]
     },
     "execution_count": 26,
     "metadata": {},
     "output_type": "execute_result"
    }
   ],
   "source": [
    "benimListem"
   ]
  },
  {
   "cell_type": "code",
   "execution_count": 27,
   "id": "4c8bbebd",
   "metadata": {},
   "outputs": [
    {
     "data": {
      "text/plain": [
       "50"
      ]
     },
     "execution_count": 27,
     "metadata": {},
     "output_type": "execute_result"
    }
   ],
   "source": [
    "benimListem.pop()"
   ]
  },
  {
   "cell_type": "code",
   "execution_count": 28,
   "id": "904358fe",
   "metadata": {},
   "outputs": [
    {
     "data": {
      "text/plain": [
       "[100, 40]"
      ]
     },
     "execution_count": 28,
     "metadata": {},
     "output_type": "execute_result"
    }
   ],
   "source": [
    "benimListem"
   ]
  },
  {
   "cell_type": "code",
   "execution_count": 29,
   "id": "e471ceb7",
   "metadata": {},
   "outputs": [
    {
     "data": {
      "text/plain": [
       "1"
      ]
     },
     "execution_count": 29,
     "metadata": {},
     "output_type": "execute_result"
    }
   ],
   "source": [
    "benimListem.count(40)"
   ]
  },
  {
   "cell_type": "code",
   "execution_count": 30,
   "id": "6031356f",
   "metadata": {},
   "outputs": [],
   "source": [
    "benimListem.append(20)"
   ]
  },
  {
   "cell_type": "code",
   "execution_count": 31,
   "id": "d21f0d36",
   "metadata": {},
   "outputs": [],
   "source": [
    "benimListem.append(20)"
   ]
  },
  {
   "cell_type": "code",
   "execution_count": 32,
   "id": "2b86f7a5",
   "metadata": {},
   "outputs": [
    {
     "data": {
      "text/plain": [
       "2"
      ]
     },
     "execution_count": 32,
     "metadata": {},
     "output_type": "execute_result"
    }
   ],
   "source": [
    "benimListem.count(20)"
   ]
  },
  {
   "cell_type": "code",
   "execution_count": 8,
   "id": "5977282c",
   "metadata": {},
   "outputs": [],
   "source": [
    "benimStringListem = [\"atıl\",\"semih\",\"zeynep\"]"
   ]
  },
  {
   "cell_type": "code",
   "execution_count": 9,
   "id": "ad3471fd",
   "metadata": {},
   "outputs": [],
   "source": [
    "benimDigerListem = [\"mehmet\",\"mahmut\",\"atlas\"]"
   ]
  },
  {
   "cell_type": "code",
   "execution_count": 10,
   "id": "6625f500",
   "metadata": {},
   "outputs": [],
   "source": [
    "benimToplamaListem = benimStringListem+benimDigerListem"
   ]
  },
  {
   "cell_type": "code",
   "execution_count": 11,
   "id": "5524cf37",
   "metadata": {},
   "outputs": [
    {
     "data": {
      "text/plain": [
       "['atıl', 'semih', 'zeynep', 'mehmet', 'mahmut', 'atlas']"
      ]
     },
     "execution_count": 11,
     "metadata": {},
     "output_type": "execute_result"
    }
   ],
   "source": [
    "benimToplamaListem"
   ]
  },
  {
   "cell_type": "code",
   "execution_count": 40,
   "id": "639ac73d",
   "metadata": {},
   "outputs": [
    {
     "data": {
      "text/plain": [
       "['atıl',\n",
       " 'ahmet',\n",
       " 'zeynep',\n",
       " 'atıl',\n",
       " 'ahmet',\n",
       " 'zeynep',\n",
       " 'atıl',\n",
       " 'ahmet',\n",
       " 'zeynep',\n",
       " 'atıl',\n",
       " 'ahmet',\n",
       " 'zeynep',\n",
       " 'atıl',\n",
       " 'ahmet',\n",
       " 'zeynep']"
      ]
     },
     "execution_count": 40,
     "metadata": {},
     "output_type": "execute_result"
    }
   ],
   "source": [
    "benimStringListem * 5"
   ]
  },
  {
   "cell_type": "code",
   "execution_count": 12,
   "id": "3105beaf",
   "metadata": {},
   "outputs": [
    {
     "data": {
      "text/plain": [
       "['atıl', 'semih', 'zeynep', 'mehmet', 'mahmut', 'atlas']"
      ]
     },
     "execution_count": 12,
     "metadata": {},
     "output_type": "execute_result"
    }
   ],
   "source": [
    "benimToplamaListem"
   ]
  },
  {
   "cell_type": "code",
   "execution_count": 13,
   "id": "4a106d81",
   "metadata": {},
   "outputs": [],
   "source": [
    "benimToplamaListem.reverse()"
   ]
  },
  {
   "cell_type": "code",
   "execution_count": 43,
   "id": "ae616085",
   "metadata": {},
   "outputs": [
    {
     "data": {
      "text/plain": [
       "['atlas', 'mahmut', 'mehmet', 'zeynep', 'ahmet', 'atıl']"
      ]
     },
     "execution_count": 43,
     "metadata": {},
     "output_type": "execute_result"
    }
   ],
   "source": [
    "benimToplamaListem"
   ]
  },
  {
   "cell_type": "code",
   "execution_count": 1,
   "id": "88f1e784",
   "metadata": {},
   "outputs": [],
   "source": [
    "karisikListe = [1,2,3.5,\"atıl\",9]"
   ]
  },
  {
   "cell_type": "code",
   "execution_count": 2,
   "id": "e0417770",
   "metadata": {},
   "outputs": [
    {
     "data": {
      "text/plain": [
       "list"
      ]
     },
     "execution_count": 2,
     "metadata": {},
     "output_type": "execute_result"
    }
   ],
   "source": [
    "type(karisikListe)"
   ]
  },
  {
   "cell_type": "code",
   "execution_count": 7,
   "id": "4d09f6c0",
   "metadata": {},
   "outputs": [
    {
     "data": {
      "text/plain": [
       "'atıl'"
      ]
     },
     "execution_count": 7,
     "metadata": {},
     "output_type": "execute_result"
    }
   ],
   "source": [
    "sonucum = karisikListe[3]\n",
    "karisikListe[3]"
   ]
  },
  {
   "cell_type": "code",
   "execution_count": 6,
   "id": "5b0e31fe",
   "metadata": {},
   "outputs": [
    {
     "data": {
      "text/plain": [
       "str"
      ]
     },
     "execution_count": 6,
     "metadata": {},
     "output_type": "execute_result"
    }
   ],
   "source": [
    "type(sonucum)"
   ]
  },
  {
   "cell_type": "code",
   "execution_count": 8,
   "id": "a959d993",
   "metadata": {},
   "outputs": [],
   "source": [
    "nestedList = [1,5,\"atıl\",4,[6,\"z\"]]"
   ]
  },
  {
   "cell_type": "code",
   "execution_count": 17,
   "id": "d5991f73",
   "metadata": {},
   "outputs": [
    {
     "data": {
      "text/plain": [
       "[6, 'z']"
      ]
     },
     "execution_count": 17,
     "metadata": {},
     "output_type": "execute_result"
    }
   ],
   "source": [
    "nestedList[4]"
   ]
  },
  {
   "cell_type": "code",
   "execution_count": 25,
   "id": "2a81f039",
   "metadata": {},
   "outputs": [
    {
     "name": "stdout",
     "output_type": "stream",
     "text": [
      "[6, 'z']\n"
     ]
    }
   ],
   "source": [
    "myX = nestedList[4]\n",
    "print(myX)"
   ]
  },
  {
   "cell_type": "code",
   "execution_count": 26,
   "id": "da1739f1",
   "metadata": {},
   "outputs": [
    {
     "data": {
      "text/plain": [
       "'z'"
      ]
     },
     "execution_count": 26,
     "metadata": {},
     "output_type": "execute_result"
    }
   ],
   "source": [
    "myX[1]"
   ]
  },
  {
   "cell_type": "code",
   "execution_count": 27,
   "id": "0c57bda1",
   "metadata": {},
   "outputs": [],
   "source": [
    "##veya abi"
   ]
  },
  {
   "cell_type": "code",
   "execution_count": 28,
   "id": "f3dd540e",
   "metadata": {},
   "outputs": [],
   "source": [
    "myX= nestedList[4][1]"
   ]
  },
  {
   "cell_type": "code",
   "execution_count": 29,
   "id": "551361db",
   "metadata": {},
   "outputs": [
    {
     "data": {
      "text/plain": [
       "'z'"
      ]
     },
     "execution_count": 29,
     "metadata": {},
     "output_type": "execute_result"
    }
   ],
   "source": [
    "myX"
   ]
  },
  {
   "cell_type": "code",
   "execution_count": 30,
   "id": "7220e0ab",
   "metadata": {},
   "outputs": [],
   "source": [
    "karmasikListe = [[1,2,3,[\"a\",\"b\"],50],40,20,[\"z\",5.5],[3,[\"a\"]]]"
   ]
  },
  {
   "cell_type": "code",
   "execution_count": 31,
   "id": "51ca512c",
   "metadata": {},
   "outputs": [],
   "source": [
    "cekmekIstedigimDeger = karmasikListe[0][3][1]"
   ]
  },
  {
   "cell_type": "code",
   "execution_count": 33,
   "id": "e9d835ff",
   "metadata": {},
   "outputs": [
    {
     "name": "stdout",
     "output_type": "stream",
     "text": [
      "b\n"
     ]
    }
   ],
   "source": [
    "print(cekmekIstedigimDeger)"
   ]
  },
  {
   "cell_type": "code",
   "execution_count": 36,
   "id": "3bb9d506",
   "metadata": {},
   "outputs": [
    {
     "data": {
      "text/plain": [
       "[1, 5, 'atıl', 4, [6, 'z']]"
      ]
     },
     "execution_count": 36,
     "metadata": {},
     "output_type": "execute_result"
    }
   ],
   "source": [
    "nestedList"
   ]
  },
  {
   "cell_type": "code",
   "execution_count": 37,
   "id": "55fc3409",
   "metadata": {},
   "outputs": [
    {
     "data": {
      "text/plain": [
       "['atıl', 4, [6, 'z']]"
      ]
     },
     "execution_count": 37,
     "metadata": {},
     "output_type": "execute_result"
    }
   ],
   "source": [
    "nestedList[2:]"
   ]
  },
  {
   "cell_type": "code",
   "execution_count": 38,
   "id": "67473430",
   "metadata": {},
   "outputs": [
    {
     "data": {
      "text/plain": [
       "[1, 5]"
      ]
     },
     "execution_count": 38,
     "metadata": {},
     "output_type": "execute_result"
    }
   ],
   "source": [
    "nestedList[:2]"
   ]
  },
  {
   "cell_type": "code",
   "execution_count": 41,
   "id": "0f44430f",
   "metadata": {},
   "outputs": [
    {
     "data": {
      "text/plain": [
       "str"
      ]
     },
     "execution_count": 41,
     "metadata": {},
     "output_type": "execute_result"
    }
   ],
   "source": [
    "type(nestedList[2])"
   ]
  },
  {
   "cell_type": "code",
   "execution_count": null,
   "id": "f2e2c510",
   "metadata": {},
   "outputs": [],
   "source": []
  }
 ],
 "metadata": {
  "kernelspec": {
   "display_name": "Python 3 (ipykernel)",
   "language": "python",
   "name": "python3"
  },
  "language_info": {
   "codemirror_mode": {
    "name": "ipython",
    "version": 3
   },
   "file_extension": ".py",
   "mimetype": "text/x-python",
   "name": "python",
   "nbconvert_exporter": "python",
   "pygments_lexer": "ipython3",
   "version": "3.11.5"
  }
 },
 "nbformat": 4,
 "nbformat_minor": 5
}
