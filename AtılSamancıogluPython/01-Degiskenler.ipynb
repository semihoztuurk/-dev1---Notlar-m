{
 "cells": [
  {
   "cell_type": "code",
   "execution_count": 16,
   "id": "1309e852",
   "metadata": {},
   "outputs": [
    {
     "name": "stdout",
     "output_type": "stream",
     "text": [
      "hello world\n"
     ]
    }
   ],
   "source": [
    "print('hello world')"
   ]
  },
  {
   "cell_type": "code",
   "execution_count": 4,
   "id": "2f56bfbd",
   "metadata": {},
   "outputs": [
    {
     "data": {
      "text/plain": [
       "20"
      ]
     },
     "execution_count": 4,
     "metadata": {},
     "output_type": "execute_result"
    }
   ],
   "source": [
    "5*4"
   ]
  },
  {
   "cell_type": "code",
   "execution_count": 6,
   "id": "3a0b430f",
   "metadata": {},
   "outputs": [
    {
     "data": {
      "text/plain": [
       "3500"
      ]
     },
     "execution_count": 6,
     "metadata": {},
     "output_type": "execute_result"
    }
   ],
   "source": [
    "1000+2500"
   ]
  },
  {
   "cell_type": "code",
   "execution_count": null,
   "id": "29800dec",
   "metadata": {},
   "outputs": [],
   "source": [
    "## PYTHON AGA YAZILIM AGA"
   ]
  },
  {
   "cell_type": "markdown",
   "id": "0252200c",
   "metadata": {},
   "source": [
    "## VARİABLES"
   ]
  },
  {
   "cell_type": "code",
   "execution_count": 9,
   "id": "f7619dcd",
   "metadata": {},
   "outputs": [],
   "source": [
    "x=5"
   ]
  },
  {
   "cell_type": "code",
   "execution_count": 10,
   "id": "b4873f1f",
   "metadata": {},
   "outputs": [],
   "source": [
    "y=4"
   ]
  },
  {
   "cell_type": "code",
   "execution_count": 14,
   "id": "7d9eb4da",
   "metadata": {},
   "outputs": [
    {
     "data": {
      "text/plain": [
       "24"
      ]
     },
     "execution_count": 14,
     "metadata": {},
     "output_type": "execute_result"
    }
   ],
   "source": [
    "x*y"
   ]
  },
  {
   "cell_type": "code",
   "execution_count": 12,
   "id": "dcfae1df",
   "metadata": {},
   "outputs": [],
   "source": [
    "x=6"
   ]
  },
  {
   "cell_type": "code",
   "execution_count": 13,
   "id": "c0b09161",
   "metadata": {},
   "outputs": [
    {
     "data": {
      "text/plain": [
       "24"
      ]
     },
     "execution_count": 13,
     "metadata": {},
     "output_type": "execute_result"
    }
   ],
   "source": [
    "x*y"
   ]
  },
  {
   "cell_type": "code",
   "execution_count": 15,
   "id": "681efaed",
   "metadata": {},
   "outputs": [
    {
     "data": {
      "text/plain": [
       "40"
      ]
     },
     "execution_count": 15,
     "metadata": {},
     "output_type": "execute_result"
    }
   ],
   "source": [
    "y*10"
   ]
  },
  {
   "cell_type": "markdown",
   "id": "010c05e4",
   "metadata": {},
   "source": [
    "## Integer & Float"
   ]
  },
  {
   "cell_type": "code",
   "execution_count": 18,
   "id": "2bb0d969",
   "metadata": {},
   "outputs": [],
   "source": [
    "myVariable = 10\n",
    "myOtherVariable = 20"
   ]
  },
  {
   "cell_type": "code",
   "execution_count": 19,
   "id": "fc93b44e",
   "metadata": {},
   "outputs": [
    {
     "data": {
      "text/plain": [
       "30"
      ]
     },
     "execution_count": 19,
     "metadata": {},
     "output_type": "execute_result"
    }
   ],
   "source": [
    "myVariable + myOtherVariable"
   ]
  },
  {
   "cell_type": "code",
   "execution_count": 20,
   "id": "a9bae7f9",
   "metadata": {},
   "outputs": [
    {
     "data": {
      "text/plain": [
       "int"
      ]
     },
     "execution_count": 20,
     "metadata": {},
     "output_type": "execute_result"
    }
   ],
   "source": [
    "type(myVariable)"
   ]
  },
  {
   "cell_type": "code",
   "execution_count": 30,
   "id": "a2101678",
   "metadata": {},
   "outputs": [
    {
     "data": {
      "text/plain": [
       "float"
      ]
     },
     "execution_count": 30,
     "metadata": {},
     "output_type": "execute_result"
    }
   ],
   "source": [
    "result = myOtherVariable / myVariable\n",
    "type(result)"
   ]
  },
  {
   "cell_type": "code",
   "execution_count": 28,
   "id": "fe99fcc6",
   "metadata": {},
   "outputs": [],
   "source": [
    "a=3\n",
    "b=2"
   ]
  },
  {
   "cell_type": "code",
   "execution_count": 29,
   "id": "b0545905",
   "metadata": {},
   "outputs": [
    {
     "data": {
      "text/plain": [
       "1.5"
      ]
     },
     "execution_count": 29,
     "metadata": {},
     "output_type": "execute_result"
    }
   ],
   "source": [
    "a/b"
   ]
  },
  {
   "cell_type": "code",
   "execution_count": 31,
   "id": "ee440ac5",
   "metadata": {},
   "outputs": [
    {
     "data": {
      "text/plain": [
       "float"
      ]
     },
     "execution_count": 31,
     "metadata": {},
     "output_type": "execute_result"
    }
   ],
   "source": [
    "pi = 3.14\n",
    "type(pi)"
   ]
  },
  {
   "cell_type": "code",
   "execution_count": 32,
   "id": "45e02dbe",
   "metadata": {},
   "outputs": [],
   "source": [
    "a=5"
   ]
  },
  {
   "cell_type": "code",
   "execution_count": 33,
   "id": "2fddd862",
   "metadata": {},
   "outputs": [
    {
     "data": {
      "text/plain": [
       "int"
      ]
     },
     "execution_count": 33,
     "metadata": {},
     "output_type": "execute_result"
    }
   ],
   "source": [
    "type(a)"
   ]
  },
  {
   "cell_type": "code",
   "execution_count": 36,
   "id": "eda3f84f",
   "metadata": {},
   "outputs": [
    {
     "data": {
      "text/plain": [
       "1.592356687898089"
      ]
     },
     "execution_count": 36,
     "metadata": {},
     "output_type": "execute_result"
    }
   ],
   "source": [
    "a/pi"
   ]
  },
  {
   "cell_type": "code",
   "execution_count": 39,
   "id": "0acaee92",
   "metadata": {},
   "outputs": [],
   "source": [
    "a=5\n",
    "b=4"
   ]
  },
  {
   "cell_type": "code",
   "execution_count": 40,
   "id": "b57ca8b0",
   "metadata": {},
   "outputs": [
    {
     "data": {
      "text/plain": [
       "int"
      ]
     },
     "execution_count": 40,
     "metadata": {},
     "output_type": "execute_result"
    }
   ],
   "source": [
    "result=a+b\n",
    "type(result)\n"
   ]
  },
  {
   "cell_type": "code",
   "execution_count": 41,
   "id": "defba6f8",
   "metadata": {},
   "outputs": [
    {
     "data": {
      "text/plain": [
       "int"
      ]
     },
     "execution_count": 41,
     "metadata": {},
     "output_type": "execute_result"
    }
   ],
   "source": [
    "sonuc =a * b\n",
    "type(sonuc)"
   ]
  },
  {
   "cell_type": "markdown",
   "id": "bb0e0e52",
   "metadata": {},
   "source": [
    "## Mathematical Operations"
   ]
  },
  {
   "cell_type": "code",
   "execution_count": 42,
   "id": "dec2f763",
   "metadata": {},
   "outputs": [],
   "source": [
    "x=5\n",
    "y=3"
   ]
  },
  {
   "cell_type": "code",
   "execution_count": 43,
   "id": "df29f7db",
   "metadata": {},
   "outputs": [
    {
     "data": {
      "text/plain": [
       "150"
      ]
     },
     "execution_count": 43,
     "metadata": {},
     "output_type": "execute_result"
    }
   ],
   "source": [
    "x * y * 10"
   ]
  },
  {
   "cell_type": "code",
   "execution_count": 44,
   "id": "6295d22b",
   "metadata": {},
   "outputs": [
    {
     "data": {
      "text/plain": [
       "625"
      ]
     },
     "execution_count": 44,
     "metadata": {},
     "output_type": "execute_result"
    }
   ],
   "source": [
    "x * x * x * x"
   ]
  },
  {
   "cell_type": "code",
   "execution_count": 47,
   "id": "43590ba1",
   "metadata": {},
   "outputs": [
    {
     "data": {
      "text/plain": [
       "125"
      ]
     },
     "execution_count": 47,
     "metadata": {},
     "output_type": "execute_result"
    }
   ],
   "source": [
    "x ** 3"
   ]
  },
  {
   "cell_type": "code",
   "execution_count": 48,
   "id": "c4b3dccc",
   "metadata": {},
   "outputs": [
    {
     "data": {
      "text/plain": [
       "0"
      ]
     },
     "execution_count": 48,
     "metadata": {},
     "output_type": "execute_result"
    }
   ],
   "source": [
    "#Remainder - Kalan bulmak\n",
    "10 % 2"
   ]
  },
  {
   "cell_type": "code",
   "execution_count": 49,
   "id": "8720db6c",
   "metadata": {},
   "outputs": [
    {
     "data": {
      "text/plain": [
       "1"
      ]
     },
     "execution_count": 49,
     "metadata": {},
     "output_type": "execute_result"
    }
   ],
   "source": [
    "11 % 2"
   ]
  },
  {
   "cell_type": "code",
   "execution_count": 50,
   "id": "ab8586d1",
   "metadata": {},
   "outputs": [
    {
     "data": {
      "text/plain": [
       "2"
      ]
     },
     "execution_count": 50,
     "metadata": {},
     "output_type": "execute_result"
    }
   ],
   "source": [
    "11 % 3"
   ]
  },
  {
   "cell_type": "code",
   "execution_count": 51,
   "id": "4208df1a",
   "metadata": {},
   "outputs": [],
   "source": [
    "userAge = 10"
   ]
  },
  {
   "cell_type": "code",
   "execution_count": 52,
   "id": "38f21cfb",
   "metadata": {},
   "outputs": [],
   "source": [
    "## camelCase snake_case"
   ]
  },
  {
   "cell_type": "code",
   "execution_count": 53,
   "id": "b639587a",
   "metadata": {},
   "outputs": [
    {
     "data": {
      "text/plain": [
       "16.666666666666668"
      ]
     },
     "execution_count": 53,
     "metadata": {},
     "output_type": "execute_result"
    }
   ],
   "source": [
    "userAge * 5 / 3"
   ]
  },
  {
   "cell_type": "code",
   "execution_count": 56,
   "id": "bfa83f75",
   "metadata": {},
   "outputs": [
    {
     "name": "stdout",
     "output_type": "stream",
     "text": [
      "Yaşınızı Giriniz: 40\n"
     ]
    }
   ],
   "source": [
    "userAge = input(\"Yaşınızı Giriniz: \")"
   ]
  },
  {
   "cell_type": "code",
   "execution_count": 57,
   "id": "7aec5a9b",
   "metadata": {},
   "outputs": [
    {
     "data": {
      "text/plain": [
       "'40'"
      ]
     },
     "execution_count": 57,
     "metadata": {},
     "output_type": "execute_result"
    }
   ],
   "source": [
    "userAge"
   ]
  },
  {
   "cell_type": "code",
   "execution_count": 58,
   "id": "8aca8abf",
   "metadata": {},
   "outputs": [
    {
     "data": {
      "text/plain": [
       "str"
      ]
     },
     "execution_count": 58,
     "metadata": {},
     "output_type": "execute_result"
    }
   ],
   "source": [
    "type(userAge)"
   ]
  },
  {
   "cell_type": "code",
   "execution_count": 59,
   "id": "6fad7183",
   "metadata": {},
   "outputs": [
    {
     "data": {
      "text/plain": [
       "'4040404040'"
      ]
     },
     "execution_count": 59,
     "metadata": {},
     "output_type": "execute_result"
    }
   ],
   "source": [
    "userAge  * 5"
   ]
  },
  {
   "cell_type": "markdown",
   "id": "4bc79e31",
   "metadata": {},
   "source": [
    "## String"
   ]
  },
  {
   "cell_type": "code",
   "execution_count": 60,
   "id": "119b82f3",
   "metadata": {},
   "outputs": [
    {
     "data": {
      "text/plain": [
       "'merhaba dünya'"
      ]
     },
     "execution_count": 60,
     "metadata": {},
     "output_type": "execute_result"
    }
   ],
   "source": [
    "\"merhaba dünya\""
   ]
  },
  {
   "cell_type": "code",
   "execution_count": 61,
   "id": "1fbe071d",
   "metadata": {},
   "outputs": [],
   "source": [
    "x = \"hello world\""
   ]
  },
  {
   "cell_type": "code",
   "execution_count": 62,
   "id": "7d958207",
   "metadata": {},
   "outputs": [],
   "source": [
    "x= 10"
   ]
  },
  {
   "cell_type": "code",
   "execution_count": 63,
   "id": "e0d265e7",
   "metadata": {},
   "outputs": [],
   "source": [
    "x= 20.5"
   ]
  },
  {
   "cell_type": "code",
   "execution_count": 64,
   "id": "feccf116",
   "metadata": {},
   "outputs": [],
   "source": [
    "x= \"hello\""
   ]
  },
  {
   "cell_type": "code",
   "execution_count": 65,
   "id": "53d4f953",
   "metadata": {},
   "outputs": [
    {
     "data": {
      "text/plain": [
       "str"
      ]
     },
     "execution_count": 65,
     "metadata": {},
     "output_type": "execute_result"
    }
   ],
   "source": [
    "type(x)"
   ]
  },
  {
   "cell_type": "code",
   "execution_count": 71,
   "id": "18b6d819",
   "metadata": {},
   "outputs": [],
   "source": [
    "y= 'new string'"
   ]
  },
  {
   "cell_type": "code",
   "execution_count": 67,
   "id": "ac2a6895",
   "metadata": {},
   "outputs": [
    {
     "data": {
      "text/plain": [
       "str"
      ]
     },
     "execution_count": 67,
     "metadata": {},
     "output_type": "execute_result"
    }
   ],
   "source": [
    "type(y)"
   ]
  },
  {
   "cell_type": "code",
   "execution_count": 69,
   "id": "54969fc6",
   "metadata": {},
   "outputs": [
    {
     "data": {
      "text/plain": [
       "\"Semih'in yeri\""
      ]
     },
     "execution_count": 69,
     "metadata": {},
     "output_type": "execute_result"
    }
   ],
   "source": [
    "\"Semih'in yeri\""
   ]
  },
  {
   "cell_type": "code",
   "execution_count": 73,
   "id": "20027727",
   "metadata": {},
   "outputs": [],
   "source": [
    "a=5"
   ]
  },
  {
   "cell_type": "code",
   "execution_count": 77,
   "id": "7ac39c07",
   "metadata": {},
   "outputs": [],
   "source": [
    "benimString= \" Semih Ata Öztürk \""
   ]
  },
  {
   "cell_type": "code",
   "execution_count": 78,
   "id": "f4cd0409",
   "metadata": {},
   "outputs": [
    {
     "data": {
      "text/plain": [
       "' Semih Ata Öztürk  Semih Ata Öztürk  Semih Ata Öztürk  Semih Ata Öztürk '"
      ]
     },
     "execution_count": 78,
     "metadata": {},
     "output_type": "execute_result"
    }
   ],
   "source": [
    "benimString * 4"
   ]
  },
  {
   "cell_type": "code",
   "execution_count": 79,
   "id": "421934cf",
   "metadata": {},
   "outputs": [
    {
     "name": "stdout",
     "output_type": "stream",
     "text": [
      "Yaşınızı giriniz: 19\n"
     ]
    }
   ],
   "source": [
    "benimInput = input(\"Yaşınızı giriniz: \")"
   ]
  },
  {
   "cell_type": "code",
   "execution_count": 80,
   "id": "2f654b4c",
   "metadata": {},
   "outputs": [
    {
     "data": {
      "text/plain": [
       "str"
      ]
     },
     "execution_count": 80,
     "metadata": {},
     "output_type": "execute_result"
    }
   ],
   "source": [
    "type(benimInput)"
   ]
  },
  {
   "cell_type": "code",
   "execution_count": 81,
   "id": "2490dc69",
   "metadata": {},
   "outputs": [],
   "source": [
    "benimIntInput = int(benimInput)"
   ]
  },
  {
   "cell_type": "code",
   "execution_count": 82,
   "id": "7e9cda47",
   "metadata": {},
   "outputs": [
    {
     "data": {
      "text/plain": [
       "19"
      ]
     },
     "execution_count": 82,
     "metadata": {},
     "output_type": "execute_result"
    }
   ],
   "source": [
    "benimIntInput"
   ]
  },
  {
   "cell_type": "code",
   "execution_count": 83,
   "id": "b1b313c2",
   "metadata": {},
   "outputs": [],
   "source": [
    "k = \"Öztürk\""
   ]
  },
  {
   "cell_type": "code",
   "execution_count": 84,
   "id": "b699871d",
   "metadata": {},
   "outputs": [
    {
     "data": {
      "text/plain": [
       "6"
      ]
     },
     "execution_count": 84,
     "metadata": {},
     "output_type": "execute_result"
    }
   ],
   "source": [
    "len(k)"
   ]
  },
  {
   "cell_type": "code",
   "execution_count": 87,
   "id": "b194293e",
   "metadata": {},
   "outputs": [
    {
     "name": "stdout",
     "output_type": "stream",
     "text": [
      "merhaba \n",
      "Python\n"
     ]
    }
   ],
   "source": [
    "print(\"merhaba \\nPython\")"
   ]
  },
  {
   "cell_type": "code",
   "execution_count": 89,
   "id": "6a3f6c9d",
   "metadata": {},
   "outputs": [],
   "source": [
    "isimString = \"Semih Ata Öztürk\""
   ]
  },
  {
   "cell_type": "code",
   "execution_count": 90,
   "id": "35caad10",
   "metadata": {},
   "outputs": [
    {
     "data": {
      "text/plain": [
       "'Semih Ata Öztürk'"
      ]
     },
     "execution_count": 90,
     "metadata": {},
     "output_type": "execute_result"
    }
   ],
   "source": [
    "isimString"
   ]
  },
  {
   "cell_type": "markdown",
   "id": "2f623dcc",
   "metadata": {},
   "source": [
    "## INDEX"
   ]
  },
  {
   "cell_type": "code",
   "execution_count": 91,
   "id": "15338e3c",
   "metadata": {},
   "outputs": [
    {
     "data": {
      "text/plain": [
       "'S'"
      ]
     },
     "execution_count": 91,
     "metadata": {},
     "output_type": "execute_result"
    }
   ],
   "source": [
    "isimString[0]"
   ]
  },
  {
   "cell_type": "code",
   "execution_count": 92,
   "id": "a30b7a7c",
   "metadata": {},
   "outputs": [
    {
     "data": {
      "text/plain": [
       "'t'"
      ]
     },
     "execution_count": 92,
     "metadata": {},
     "output_type": "execute_result"
    }
   ],
   "source": [
    "isimString[7]"
   ]
  },
  {
   "cell_type": "code",
   "execution_count": 93,
   "id": "f34be5f9",
   "metadata": {},
   "outputs": [
    {
     "data": {
      "text/plain": [
       "' '"
      ]
     },
     "execution_count": 93,
     "metadata": {},
     "output_type": "execute_result"
    }
   ],
   "source": [
    "isimString[5]"
   ]
  },
  {
   "cell_type": "code",
   "execution_count": 94,
   "id": "98b8d6fd",
   "metadata": {},
   "outputs": [
    {
     "data": {
      "text/plain": [
       "16"
      ]
     },
     "execution_count": 94,
     "metadata": {},
     "output_type": "execute_result"
    }
   ],
   "source": [
    "len(isimString)"
   ]
  },
  {
   "cell_type": "code",
   "execution_count": 95,
   "id": "e91831cc",
   "metadata": {},
   "outputs": [
    {
     "data": {
      "text/plain": [
       "'k'"
      ]
     },
     "execution_count": 95,
     "metadata": {},
     "output_type": "execute_result"
    }
   ],
   "source": [
    "isimString[15]"
   ]
  },
  {
   "cell_type": "code",
   "execution_count": 96,
   "id": "58aec7c6",
   "metadata": {},
   "outputs": [
    {
     "data": {
      "text/plain": [
       "'k'"
      ]
     },
     "execution_count": 96,
     "metadata": {},
     "output_type": "execute_result"
    }
   ],
   "source": [
    "isimString[-1]"
   ]
  },
  {
   "cell_type": "code",
   "execution_count": 97,
   "id": "a929dbd7",
   "metadata": {},
   "outputs": [
    {
     "data": {
      "text/plain": [
       "'Sk'"
      ]
     },
     "execution_count": 97,
     "metadata": {},
     "output_type": "execute_result"
    }
   ],
   "source": [
    "isimString[0] + isimString[-1]"
   ]
  },
  {
   "cell_type": "code",
   "execution_count": 98,
   "id": "a05faaba",
   "metadata": {},
   "outputs": [],
   "source": [
    "yeniString = \"0123456789\""
   ]
  },
  {
   "cell_type": "code",
   "execution_count": 101,
   "id": "854a8874",
   "metadata": {},
   "outputs": [
    {
     "data": {
      "text/plain": [
       "'23456789'"
      ]
     },
     "execution_count": 101,
     "metadata": {},
     "output_type": "execute_result"
    }
   ],
   "source": [
    "yeniString[2:]"
   ]
  },
  {
   "cell_type": "code",
   "execution_count": 102,
   "id": "edbd6cc8",
   "metadata": {},
   "outputs": [],
   "source": [
    "harfString = \"abcdefgh\""
   ]
  },
  {
   "cell_type": "code",
   "execution_count": 103,
   "id": "464f74cd",
   "metadata": {},
   "outputs": [
    {
     "data": {
      "text/plain": [
       "'defgh'"
      ]
     },
     "execution_count": 103,
     "metadata": {},
     "output_type": "execute_result"
    }
   ],
   "source": [
    "harfString[3:]"
   ]
  },
  {
   "cell_type": "code",
   "execution_count": 104,
   "id": "8fc72b43",
   "metadata": {},
   "outputs": [
    {
     "data": {
      "text/plain": [
       "'abc'"
      ]
     },
     "execution_count": 104,
     "metadata": {},
     "output_type": "execute_result"
    }
   ],
   "source": [
    "harfString[:3]"
   ]
  },
  {
   "cell_type": "markdown",
   "id": "54d0b9ed",
   "metadata": {},
   "source": [
    "## Slicing"
   ]
  },
  {
   "cell_type": "code",
   "execution_count": 1,
   "id": "6ba3b5df",
   "metadata": {},
   "outputs": [],
   "source": [
    "gelenVeri = \"AhmetinYasi65\""
   ]
  },
  {
   "cell_type": "code",
   "execution_count": 107,
   "id": "6fac51ec",
   "metadata": {},
   "outputs": [
    {
     "data": {
      "text/plain": [
       "'65'"
      ]
     },
     "execution_count": 107,
     "metadata": {},
     "output_type": "execute_result"
    }
   ],
   "source": [
    "gelenVeri[-2:]"
   ]
  },
  {
   "cell_type": "code",
   "execution_count": 108,
   "id": "779d1cb6",
   "metadata": {},
   "outputs": [
    {
     "data": {
      "text/plain": [
       "'me'"
      ]
     },
     "execution_count": 108,
     "metadata": {},
     "output_type": "execute_result"
    }
   ],
   "source": [
    "gelenVeri[2:4]"
   ]
  },
  {
   "cell_type": "markdown",
   "id": "6c7e28f5",
   "metadata": {},
   "source": [
    "## [Startingİndex : StepSize : Stoppingİndex]"
   ]
  },
  {
   "cell_type": "code",
   "execution_count": 109,
   "id": "6cdb26bb",
   "metadata": {},
   "outputs": [],
   "source": [
    "#Step Size"
   ]
  },
  {
   "cell_type": "code",
   "execution_count": 2,
   "id": "e3ec8335",
   "metadata": {},
   "outputs": [
    {
     "data": {
      "text/plain": [
       "'htY'"
      ]
     },
     "execution_count": 2,
     "metadata": {},
     "output_type": "execute_result"
    }
   ],
   "source": [
    "gelenVeri[1:10:3]"
   ]
  },
  {
   "cell_type": "code",
   "execution_count": 114,
   "id": "a559372d",
   "metadata": {},
   "outputs": [
    {
     "data": {
      "text/plain": [
       "'56isaYnitemhA'"
      ]
     },
     "execution_count": 114,
     "metadata": {},
     "output_type": "execute_result"
    }
   ],
   "source": [
    "gelenVeri[::-1]"
   ]
  },
  {
   "cell_type": "code",
   "execution_count": 115,
   "id": "f682795f",
   "metadata": {},
   "outputs": [],
   "source": [
    "benimIsmim = \"semih\""
   ]
  },
  {
   "cell_type": "code",
   "execution_count": 119,
   "id": "49cde345",
   "metadata": {},
   "outputs": [],
   "source": [
    "benimYeniIsmim = benimIsmim.capitalize()"
   ]
  },
  {
   "cell_type": "code",
   "execution_count": 120,
   "id": "b28abffd",
   "metadata": {},
   "outputs": [
    {
     "data": {
      "text/plain": [
       "'Semih'"
      ]
     },
     "execution_count": 120,
     "metadata": {},
     "output_type": "execute_result"
    }
   ],
   "source": [
    "benimYeniIsmim"
   ]
  },
  {
   "cell_type": "code",
   "execution_count": 121,
   "id": "64da42b7",
   "metadata": {},
   "outputs": [],
   "source": [
    "benimTamIsmim = \"Semih Ata Öztürk\""
   ]
  },
  {
   "cell_type": "code",
   "execution_count": 128,
   "id": "5f29701c",
   "metadata": {},
   "outputs": [
    {
     "data": {
      "text/plain": [
       "['Semih', 'Ata', 'Öztürk']"
      ]
     },
     "execution_count": 128,
     "metadata": {},
     "output_type": "execute_result"
    }
   ],
   "source": [
    "benimTamIsmim.split()"
   ]
  },
  {
   "cell_type": "code",
   "execution_count": 129,
   "id": "d0d06978",
   "metadata": {},
   "outputs": [
    {
     "data": {
      "text/plain": [
       "'SEMIH ATA ÖZTÜRK'"
      ]
     },
     "execution_count": 129,
     "metadata": {},
     "output_type": "execute_result"
    }
   ],
   "source": [
    "benimTamIsmim.upper()"
   ]
  },
  {
   "cell_type": "code",
   "execution_count": 133,
   "id": "2abe4a8f",
   "metadata": {},
   "outputs": [
    {
     "data": {
      "text/plain": [
       "'Semih'"
      ]
     },
     "execution_count": 133,
     "metadata": {},
     "output_type": "execute_result"
    }
   ],
   "source": [
    "benimIsmim "
   ]
  },
  {
   "cell_type": "code",
   "execution_count": 134,
   "id": "ce5f71bd",
   "metadata": {},
   "outputs": [],
   "source": [
    "benimSoyismim = \"Öztürk\""
   ]
  },
  {
   "cell_type": "code",
   "execution_count": 135,
   "id": "635cd453",
   "metadata": {},
   "outputs": [
    {
     "data": {
      "text/plain": [
       "'Semih Öztürk'"
      ]
     },
     "execution_count": 135,
     "metadata": {},
     "output_type": "execute_result"
    }
   ],
   "source": [
    "benimIsmim + \" \" + benimSoyismim"
   ]
  },
  {
   "cell_type": "code",
   "execution_count": 136,
   "id": "66cb1e47",
   "metadata": {},
   "outputs": [
    {
     "data": {
      "text/plain": [
       "'510'"
      ]
     },
     "execution_count": 136,
     "metadata": {},
     "output_type": "execute_result"
    }
   ],
   "source": [
    "j= \"5\"\n",
    "k= \"10\"\n",
    "j + k"
   ]
  },
  {
   "cell_type": "code",
   "execution_count": null,
   "id": "f48d8b36",
   "metadata": {},
   "outputs": [],
   "source": []
  }
 ],
 "metadata": {
  "kernelspec": {
   "display_name": "Python 3 (ipykernel)",
   "language": "python",
   "name": "python3"
  },
  "language_info": {
   "codemirror_mode": {
    "name": "ipython",
    "version": 3
   },
   "file_extension": ".py",
   "mimetype": "text/x-python",
   "name": "python",
   "nbconvert_exporter": "python",
   "pygments_lexer": "ipython3",
   "version": "3.11.5"
  }
 },
 "nbformat": 4,
 "nbformat_minor": 5
}
